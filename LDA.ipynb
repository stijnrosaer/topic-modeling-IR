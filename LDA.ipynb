{
 "cells": [
  {
   "cell_type": "code",
   "execution_count": 1,
   "metadata": {},
   "outputs": [],
   "source": [
    "import pandas as pd\n",
    "import numpy as np\n",
    "import random\n",
    "from collections import defaultdict\n",
    "from IPython.display import clear_output\n",
    "import inflect"
   ]
  },
  {
   "cell_type": "code",
   "execution_count": 2,
   "metadata": {
    "pycharm": {
     "is_executing": false
    }
   },
   "outputs": [],
   "source": [
    "df = pd.DataFrame()\n",
    "for chunk in pd.read_csv('./news_dataset.csv', usecols=['content'], chunksize=1000):\n",
    "    df = pd.concat([df, chunk], ignore_index=True)"
   ]
  },
  {
   "cell_type": "code",
   "execution_count": 3,
   "metadata": {
    "pycharm": {
     "is_executing": false
    }
   },
   "outputs": [
    {
     "data": {
      "text/html": [
       "<div>\n",
       "<style scoped>\n",
       "    .dataframe tbody tr th:only-of-type {\n",
       "        vertical-align: middle;\n",
       "    }\n",
       "\n",
       "    .dataframe tbody tr th {\n",
       "        vertical-align: top;\n",
       "    }\n",
       "\n",
       "    .dataframe thead th {\n",
       "        text-align: right;\n",
       "    }\n",
       "</style>\n",
       "<table border=\"1\" class=\"dataframe\">\n",
       "  <thead>\n",
       "    <tr style=\"text-align: right;\">\n",
       "      <th></th>\n",
       "      <th>content</th>\n",
       "    </tr>\n",
       "  </thead>\n",
       "  <tbody>\n",
       "    <tr>\n",
       "      <th>0</th>\n",
       "      <td>WASHINGTON  —   Congressional Republicans have...</td>\n",
       "    </tr>\n",
       "    <tr>\n",
       "      <th>1</th>\n",
       "      <td>After the bullet shells get counted, the blood...</td>\n",
       "    </tr>\n",
       "    <tr>\n",
       "      <th>2</th>\n",
       "      <td>When Walt Disney’s “Bambi” opened in 1942, cri...</td>\n",
       "    </tr>\n",
       "    <tr>\n",
       "      <th>3</th>\n",
       "      <td>Death may be the great equalizer, but it isn’t...</td>\n",
       "    </tr>\n",
       "    <tr>\n",
       "      <th>4</th>\n",
       "      <td>SEOUL, South Korea  —   North Korea’s leader, ...</td>\n",
       "    </tr>\n",
       "  </tbody>\n",
       "</table>\n",
       "</div>"
      ],
      "text/plain": [
       "                                             content\n",
       "0  WASHINGTON  —   Congressional Republicans have...\n",
       "1  After the bullet shells get counted, the blood...\n",
       "2  When Walt Disney’s “Bambi” opened in 1942, cri...\n",
       "3  Death may be the great equalizer, but it isn’t...\n",
       "4  SEOUL, South Korea  —   North Korea’s leader, ..."
      ]
     },
     "execution_count": 3,
     "metadata": {},
     "output_type": "execute_result"
    }
   ],
   "source": [
    "df = df.iloc[:10000]\n",
    "df.head()"
   ]
  },
  {
   "cell_type": "code",
   "execution_count": 4,
   "metadata": {
    "pycharm": {
     "is_executing": false
    }
   },
   "outputs": [],
   "source": [
    "import re\n",
    "df[\"content\"] = df[\"content\"].str.lower() \n",
    "\n",
    "# df[\"content\"] = df[\"content\"].str.translate(None, \",!.; -@!%^&*)(\\\\\\'\\\"\")\n",
    "df['content'] = df['content'].map(lambda x: re.sub(r'[,!.;+-@!%^&*)(\\\\\\'\\\"“”’—]', '', str(x)))\n",
    "df['content'] = df['content'].map(lambda x: re.sub(r'\\W+', ' ', str(x)))"
   ]
  },
  {
   "cell_type": "code",
   "execution_count": null,
   "outputs": [],
   "source": [
    "## TAKES REALY LONG\n",
    "\n",
    "# p = inflect.engine()\n",
    "\n",
    "# def to_singular(word):\n",
    "#     sing = p.singular_noun(word)\n",
    "#     if not sing:\n",
    "#         return word\n",
    "#     return sing\n",
    "\n",
    "# df['content'] = df['content'].map(lambda x: ' '.join([to_singular(word) for word in x.split()]))\n",
    "\n"
   ],
   "metadata": {
    "collapsed": false,
    "pycharm": {
     "name": "#%%\n"
    }
   }
  },
  {
   "cell_type": "code",
   "execution_count": 5,
   "metadata": {
    "pycharm": {
     "is_executing": false,
     "name": "#%%\n"
    }
   },
   "outputs": [
    {
     "name": "stderr",
     "output_type": "stream",
     "text": [
      "[nltk_data] Downloading package stopwords to\n",
      "[nltk_data]     C:\\Users\\stijn\\AppData\\Roaming\\nltk_data...\n",
      "[nltk_data]   Unzipping corpora\\stopwords.zip.\n"
     ]
    }
   ],
   "source": [
    "import nltk\n",
    "nltk.download('stopwords')\n",
    "from nltk.corpus import stopwords\n",
    "stop = stopwords.words(\"english\")\n",
    "stop += ['mr', 'said', 'ms', 'would', 'mrs', 'mss']\n",
    "df['content'] = df['content'].apply(lambda x: ' '.join([word for word in x.split() if word not in (stop)]))\n"
   ]
  },
  {
   "cell_type": "code",
   "execution_count": 6,
   "metadata": {
    "pycharm": {
     "is_executing": false,
     "name": "#%%\n"
    }
   },
   "outputs": [
    {
     "data": {
      "text/plain": [
       "0         washington congressional republicans new fear ...\n",
       "1         bullet shells get counted blood dries votive c...\n",
       "2         walt disneys bambi opened critics praised spar...\n",
       "3         death may great equalizer isnt necessarily eve...\n",
       "4         seoul south korea north koreas leader kim said...\n",
       "                                ...                        \n",
       "141580    uber driver keith avila picked passenger looke...\n",
       "141581    crews friday continued search lake erie plane ...\n",
       "141582    obama administration announced massive effort ...\n",
       "141583    story updated new law michigan prohibit local ...\n",
       "141584    nations first recreational marijuana shop open...\n",
       "Name: content, Length: 141585, dtype: object"
      ]
     },
     "execution_count": 6,
     "metadata": {},
     "output_type": "execute_result"
    }
   ],
   "source": [
    "df[\"content\"]\n"
   ]
  },
  {
   "cell_type": "code",
   "execution_count": 7,
   "metadata": {
    "pycharm": {
     "is_executing": false,
     "name": "#%%\n"
    }
   },
   "outputs": [
    {
     "data": {
      "text/plain": [
       "[0, 1, 2, 3, 4, 5, 6, 7, 8, 9]"
      ]
     },
     "execution_count": 7,
     "metadata": {},
     "output_type": "execute_result"
    }
   ],
   "source": [
    "nr_topics = 10\n",
    "topics = list(range(nr_topics))\n",
    "topics"
   ]
  },
  {
   "cell_type": "code",
   "execution_count": 10,
   "metadata": {
    "pycharm": {
     "is_executing": false,
     "name": "#%%\n"
    }
   },
   "outputs": [
    {
     "name": "stdout",
     "output_type": "stream",
     "text": [
      "141000\n"
     ]
    }
   ],
   "source": [
    "def defaultvalue():\n",
    "    return [0 for _ in range(nr_topics)]\n",
    "\n",
    "doc_topics = []\n",
    "word_topics = defaultdict(defaultvalue)\n",
    "\n",
    "assigned = []\n",
    "for index, row in df.iterrows():\n",
    "    if type(row[\"content\"]) != list:\n",
    "        row[\"content\"] = row[\"content\"].split()\n",
    "    if index%1000 == 0:\n",
    "        clear_output(wait=True)\n",
    "        print(index)\n",
    "\n",
    "    t = [0 for _ in range(nr_topics)]\n",
    "    assigned_doc = []\n",
    "    for word in row[\"content\"]:\n",
    "        word_topic = random.sample(topics, 1)[0]\n",
    "        word_topics[word][word_topic] += 1\n",
    "        assigned_doc.append(word_topic)\n",
    "        t[word_topic] += 1\n",
    "    assigned.append(assigned_doc)\n",
    "    doc_topics.append(t)\n",
    "        \n",
    "\n"
   ]
  },
  {
   "cell_type": "code",
   "execution_count": 11,
   "metadata": {
    "pycharm": {
     "is_executing": false
    }
   },
   "outputs": [],
   "source": [
    "alpha = 10\n",
    "gamma = 4\n",
    "\n",
    "def sum_doc(doc_index):\n",
    "    return len(assigned[doc_index]) + nr_topics*alpha\n",
    "\n",
    "def sum_topic(topic):\n",
    "    s = 0\n",
    "    for doc in doc_topics:\n",
    "        s += doc[topic] + gamma\n",
    "        \n",
    "    return s\n",
    "\n",
    "def alltopics():\n",
    "    lis = []\n",
    "    \n",
    "    for t in topics:\n",
    "        lis.append(sum_topic(t))\n",
    "    \n",
    "    return lis\n",
    "\n",
    "def alldocslength():\n",
    "    lis = []\n",
    "    \n",
    "    for d in assigned:\n",
    "        lis.append(len(d) + nr_topics*alpha)\n",
    "    \n",
    "    return lis\n",
    "\n",
    "sum_topics = alltopics()\n",
    "doc_len = alldocslength()       "
   ]
  },
  {
   "cell_type": "code",
   "execution_count": null,
   "outputs": [],
   "source": [
    "def gibbs_iter():\n",
    "    for index, row in df.iterrows():\n",
    "        # print(index)\n",
    "\n",
    "        for i, word in enumerate(row[\"content\"]):\n",
    "            t = assigned[index][i]\n",
    "            word_topics[word][t] -= 1\n",
    "            doc_topics[index][t] -= 1\n",
    "            sum_topics[t] -= 1\n",
    "            \n",
    "            topic_scores = []\n",
    "            for top in range(nr_topics):\n",
    "                n_dk = doc_topics[index][top]\n",
    "                v_kwdn = word_topics[word][top]\n",
    "    \n",
    "                s1 = doc_len[index]\n",
    "                s2 = sum_topics[top]\n",
    "                topic_scores.append(((n_dk + alpha)/s1) * ((v_kwdn + gamma)/s2))\n",
    "            \n",
    "            z_new = random.choices(topics, weights=topic_scores, k=1)[0]\n",
    "            word_topics[word][z_new] += 1\n",
    "            doc_topics[index][z_new] += 1\n",
    "            sum_topics[z_new] += 1\n",
    "            assigned[index][i] = z_new\n",
    "        \n",
    "    return 0"
   ],
   "metadata": {
    "collapsed": false,
    "pycharm": {
     "name": "#%%\n"
    }
   }
  },
  {
   "cell_type": "code",
   "execution_count": null,
   "outputs": [],
   "source": [
    "for i in range(10):\n",
    "    print(i)\n",
    "    gibbs_iter()\n"
   ],
   "metadata": {
    "collapsed": false,
    "pycharm": {
     "name": "#%%\n"
    }
   }
  },
  {
   "cell_type": "code",
   "execution_count": 40,
   "metadata": {
    "pycharm": {
     "name": "#%%\n"
    }
   },
   "outputs": [
    {
     "name": "stderr",
     "output_type": "stream",
     "text": [
      "\n",
      "Error compiling Cython file:\n",
      "------------------------------------------------------------\n",
      "...\n",
      "cdef int gibbs_iter():\n",
      "    for index, row in df.iterrows():\n",
      "        # print(index)\n",
      "\n",
      "        for i, word in enumerate(row[\"content\"]):\n",
      "            cdef int t = assigned[index][i]\n",
      "                ^\n",
      "------------------------------------------------------------\n",
      "\n",
      "C:\\Users\\stijn\\.ipython\\cython\\_cython_magic_938f6d132e5aa7aa4963d0916a41333a.pyx:9:17: cdef statement not allowed here\n"
     ]
    }
   ],
   "source": [
    "def get_top_topics(amount):\n",
    "    topics_word = [[] for _ in range(nr_topics)]\n",
    "    \n",
    "    for word in word_topics:\n",
    "        for top, value in enumerate(word_topics[word]):\n",
    "        \n",
    "            topics_word[top].append([word, value])    \n",
    "            \n",
    "    result = []        \n",
    "    for topic_list in topics_word:\n",
    "        result.append(sorted(topic_list, key= lambda x: x[1], reverse=True )[:amount])\n",
    "    return result\n",
    "        \n",
    "\n",
    "\n",
    "get_top_topics(10)"
   ]
  },
  {
   "cell_type": "code",
   "execution_count": null,
   "metadata": {},
   "outputs": [],
   "source": [
    "def get_top_topics(amount):\n",
    "    topics_word = [[] for _ in range(nr_topics)]\n",
    "    \n",
    "    for word in word_topics:\n",
    "        for top, value in word_topics[word].items():\n",
    "        \n",
    "            topics_word[top].append([word, value])    \n",
    "            \n",
    "    result = []        \n",
    "    for topic_list in topics_word:\n",
    "        result.append(sorted(topic_list, key= lambda x: x[1], reverse=True )[:amount])\n",
    "    return result\n",
    "        \n",
    "\n",
    "\n",
    "get_top_topics(5)"
   ]
  }
 ],
 "metadata": {
  "kernelspec": {
   "display_name": "Python 3",
   "language": "python",
   "name": "python3"
  },
  "language_info": {
   "codemirror_mode": {
    "name": "ipython",
    "version": 3
   },
   "file_extension": ".py",
   "mimetype": "text/x-python",
   "name": "python",
   "nbconvert_exporter": "python",
   "pygments_lexer": "ipython3",
   "version": "3.8.5"
  }
 },
 "nbformat": 4,
 "nbformat_minor": 1
}