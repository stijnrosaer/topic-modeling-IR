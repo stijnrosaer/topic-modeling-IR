{
 "cells": [
  {
   "cell_type": "code",
   "execution_count": 13,
   "metadata": {
    "pycharm": {
     "is_executing": false
    }
   },
   "outputs": [],
   "source": [
    "import pandas as pd\n",
    "import numpy as np\n",
    "import random\n",
    "from collections import defaultdict"
   ]
  },
  {
   "cell_type": "code",
   "execution_count": 14,
   "metadata": {
    "pycharm": {
     "is_executing": false
    }
   },
   "outputs": [],
   "source": [
    "df = pd.DataFrame()\n",
    "for chunk in pd.read_csv('./news_dataset.csv', usecols=['content'], chunksize=1000):\n",
    "    df = pd.concat([df, chunk], ignore_index=True)"
   ]
  },
  {
   "cell_type": "code",
   "execution_count": 15,
   "metadata": {
    "pycharm": {
     "is_executing": false
    }
   },
   "outputs": [
    {
     "data": {
      "text/plain": "                                             content\n0  WASHINGTON  —   Congressional Republicans have...\n1  After the bullet shells get counted, the blood...\n2  When Walt Disney’s “Bambi” opened in 1942, cri...\n3  Death may be the great equalizer, but it isn’t...\n4  SEOUL, South Korea  —   North Korea’s leader, ...",
      "text/html": "<div>\n<style scoped>\n    .dataframe tbody tr th:only-of-type {\n        vertical-align: middle;\n    }\n\n    .dataframe tbody tr th {\n        vertical-align: top;\n    }\n\n    .dataframe thead th {\n        text-align: right;\n    }\n</style>\n<table border=\"1\" class=\"dataframe\">\n  <thead>\n    <tr style=\"text-align: right;\">\n      <th></th>\n      <th>content</th>\n    </tr>\n  </thead>\n  <tbody>\n    <tr>\n      <th>0</th>\n      <td>WASHINGTON  —   Congressional Republicans have...</td>\n    </tr>\n    <tr>\n      <th>1</th>\n      <td>After the bullet shells get counted, the blood...</td>\n    </tr>\n    <tr>\n      <th>2</th>\n      <td>When Walt Disney’s “Bambi” opened in 1942, cri...</td>\n    </tr>\n    <tr>\n      <th>3</th>\n      <td>Death may be the great equalizer, but it isn’t...</td>\n    </tr>\n    <tr>\n      <th>4</th>\n      <td>SEOUL, South Korea  —   North Korea’s leader, ...</td>\n    </tr>\n  </tbody>\n</table>\n</div>"
     },
     "metadata": {},
     "output_type": "execute_result",
     "execution_count": 15
    }
   ],
   "source": [
    "df.head()"
   ]
  },
  {
   "cell_type": "code",
   "execution_count": 16,
   "metadata": {
    "pycharm": {
     "is_executing": false
    }
   },
   "outputs": [],
   "source": [
    "import re\n",
    "df[\"content\"] = df[\"content\"].str.lower() \n",
    "\n",
    "# df[\"content\"] = df[\"content\"].str.translate(None, \",!.; -@!%^&*)(\\\\\\'\\\"\")\n",
    "df['content'] = df['content'].map(lambda x: re.sub(r'[,!.;+-@!%^&*)(\\\\\\'\\\"“”’—]', '', str(x)))\n",
    "df['content'] = df['content'].map(lambda x: re.sub(r'\\W+', ' ', str(x)))"
   ]
  },
  {
   "cell_type": "code",
   "execution_count": 17,
   "outputs": [
    {
     "name": "stderr",
     "text": [
      "[nltk_data] Downloading package stopwords to\n[nltk_data]     C:\\Users\\Quentindh\\AppData\\Roaming\\nltk_data...\n[nltk_data]   Package stopwords is already up-to-date!\n"
     ],
     "output_type": "stream"
    }
   ],
   "source": [
    "import nltk\n",
    "nltk.download('stopwords')\n",
    "from nltk.corpus import stopwords\n",
    "stop = stopwords.words(\"english\")\n",
    "df['content'] = df['content'].apply(lambda x: ' '.join([word for word in x.split() if word not in (stop)]))\n"
   ],
   "metadata": {
    "collapsed": false,
    "pycharm": {
     "name": "#%%\n",
     "is_executing": false
    }
   }
  },
  {
   "cell_type": "code",
   "execution_count": 18,
   "outputs": [
    {
     "data": {
      "text/plain": "0         washington congressional republicans new fear ...\n1         bullet shells get counted blood dries votive c...\n2         walt disneys bambi opened critics praised spar...\n3         death may great equalizer isnt necessarily eve...\n4         seoul south korea north koreas leader kim said...\n                                ...                        \n141580    uber driver keith avila picked passenger looke...\n141581    crews friday continued search lake erie plane ...\n141582    obama administration announced massive effort ...\n141583    story updated new law michigan prohibit local ...\n141584    nations first recreational marijuana shop open...\nName: content, Length: 141585, dtype: object"
     },
     "metadata": {},
     "output_type": "execute_result",
     "execution_count": 18
    }
   ],
   "source": [
    "df[\"content\"]\n"
   ],
   "metadata": {
    "collapsed": false,
    "pycharm": {
     "name": "#%%\n",
     "is_executing": false
    }
   }
  },
  {
   "cell_type": "code",
   "execution_count": 19,
   "metadata": {
    "pycharm": {
     "is_executing": false,
     "name": "#%%\n"
    }
   },
   "outputs": [
    {
     "data": {
      "text/plain": "[0, 1, 2, 3, 4, 5, 6, 7, 8, 9]"
     },
     "metadata": {},
     "output_type": "execute_result",
     "execution_count": 19
    }
   ],
   "source": [
    "nr_topics = 10\n",
    "topics = list(range(nr_topics))\n",
    "topics"
   ]
  },
  {
   "cell_type": "code",
   "execution_count": null,
   "metadata": {
    "pycharm": {
     "is_executing": true,
     "name": "#%%\n"
    }
   },
   "outputs": [
    {
     "name": "stdout",
     "text": [
      "0\n"
     ],
     "output_type": "stream"
    }
   ],
   "source": [
    "doc_topics = []\n",
    "word_topics = defaultdict(lambda: defaultdict(int))\n",
    "\n",
    "assigned = []\n",
    "for index, row in df.iterrows():\n",
    "    if index%1000 == 0:\n",
    "        print(index)\n",
    "        if index == 2000:\n",
    "            break\n",
    "    t = defaultdict(int)\n",
    "    assigned_doc = []\n",
    "    for word in row[\"content\"].split():\n",
    "        word_topic = random.sample(topics, 1)[0]\n",
    "        word_topics[word][word_topic] += 1\n",
    "        assigned_doc.append(word_topic)\n",
    "        t[word_topic] += 1\n",
    "    assigned.append(assigned_doc)\n",
    "    doc_topics.append(t)\n",
    "        "
   ]
  },
  {
   "cell_type": "code",
   "execution_count": null,
   "metadata": {
    "pycharm": {
     "is_executing": true,
     "name": "#%%\n"
    }
   },
   "outputs": [],
   "source": [
    "doc_topics"
   ]
  },
  {
   "cell_type": "code",
   "execution_count": null,
   "metadata": {
    "pycharm": {
     "is_executing": true,
     "name": "#%%\n"
    }
   },
   "outputs": [],
   "source": [
    "word_topics"
   ]
  },
  {
   "cell_type": "code",
   "execution_count": null,
   "metadata": {
    "pycharm": {
     "is_executing": true
    }
   },
   "outputs": [],
   "source": [
    "assigned[0]"
   ]
  },
  {
   "cell_type": "code",
   "execution_count": null,
   "metadata": {
    "pycharm": {
     "is_executing": true
    }
   },
   "outputs": [],
   "source": [
    "alpha = 10\n",
    "gamma = 4\n",
    "\n",
    "def sum_doc(doc_index):\n",
    "    return len(assigned[doc_index]) + nr_topics*alpha\n",
    "\n",
    "def sum_topic(topic):\n",
    "    s = 0\n",
    "    for doc in doc_topics:\n",
    "        s += doc[topic] + gamma\n",
    "        \n",
    "    return s\n",
    "def alltopics():\n",
    "    lis = []\n",
    "    \n",
    "    for t in topics:\n",
    "        lis.append(sum_topic(t))\n",
    "    \n",
    "    return lis\n",
    "\n",
    "sum_topics = alltopics()\n",
    "for index, row in df.iterrows():\n",
    "    # print(index)\n",
    "    for i, word in enumerate(row[\"content\"].split()):\n",
    "        t = assigned[index][i]\n",
    "        word_topics[word][t] -= 1\n",
    "        doc_topics[index][t] -= 1\n",
    "        sum_topics[t] -= 1\n",
    "        \n",
    "        topic_scores = []\n",
    "        for top in range(nr_topics):\n",
    "            n_dk = doc_topics[index][top]\n",
    "            v_kwdn = word_topics[word][top]\n",
    "\n",
    "            s1 = sum_doc(index)\n",
    "            s2 = sum_topics[top]\n",
    "            topic_scores.append(((n_dk + alpha)/s1) * ((v_kwdn + gamma)/s2))\n",
    "        \n",
    "        z_new = random.choices(topics, weights=topic_scores, k=1)[0]\n",
    "        word_topics[word][z_new] += 1\n",
    "        doc_topics[index][z_new] += 1\n",
    "        sum_topics[z_new] += 1\n",
    "        assigned[index][i] = z_new\n",
    "        "
   ]
  },
  {
   "cell_type": "code",
   "execution_count": null,
   "metadata": {
    "pycharm": {
     "is_executing": true,
     "name": "#%%\n"
    }
   },
   "outputs": [],
   "source": []
  },
  {
   "cell_type": "code",
   "execution_count": null,
   "metadata": {
    "pycharm": {
     "is_executing": true,
     "name": "#%%\n"
    }
   },
   "outputs": [],
   "source": []
  },
  {
   "cell_type": "code",
   "execution_count": null,
   "metadata": {
    "pycharm": {
     "is_executing": true
    }
   },
   "outputs": [],
   "source": []
  },
  {
   "cell_type": "code",
   "execution_count": null,
   "metadata": {
    "pycharm": {
     "is_executing": true
    }
   },
   "outputs": [],
   "source": []
  },
  {
   "cell_type": "code",
   "execution_count": null,
   "metadata": {
    "pycharm": {
     "is_executing": true
    }
   },
   "outputs": [],
   "source": []
  },
  {
   "cell_type": "code",
   "execution_count": null,
   "metadata": {
    "pycharm": {
     "is_executing": true
    }
   },
   "outputs": [],
   "source": []
  }
 ],
 "metadata": {
  "kernelspec": {
   "display_name": "Python 3",
   "language": "python",
   "name": "python3"
  },
  "language_info": {
   "codemirror_mode": {
    "name": "ipython",
    "version": 3
   },
   "file_extension": ".py",
   "mimetype": "text/x-python",
   "name": "python",
   "nbconvert_exporter": "python",
   "pygments_lexer": "ipython3",
   "version": "3.8.5"
  },
  "pycharm": {
   "stem_cell": {
    "cell_type": "raw",
    "source": [],
    "metadata": {
     "collapsed": false
    }
   }
  }
 },
 "nbformat": 4,
 "nbformat_minor": 1
}